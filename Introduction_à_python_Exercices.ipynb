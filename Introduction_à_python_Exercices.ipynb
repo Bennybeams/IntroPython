{
  "nbformat": 4,
  "nbformat_minor": 0,
  "metadata": {
    "colab": {
      "name": "Introduction à python - Exercices.ipynb",
      "provenance": [],
      "authorship_tag": "ABX9TyOhqDDmNde7/qC84xsmXYxC",
      "include_colab_link": true
    },
    "kernelspec": {
      "name": "python3",
      "display_name": "Python 3"
    },
    "language_info": {
      "name": "python"
    }
  },
  "cells": [
    {
      "cell_type": "markdown",
      "metadata": {
        "id": "view-in-github",
        "colab_type": "text"
      },
      "source": [
        "<a href=\"https://colab.research.google.com/github/Bennybeams/IntroPython/blob/main/Introduction_%C3%A0_python_Exercices.ipynb\" target=\"_parent\"><img src=\"https://colab.research.google.com/assets/colab-badge.svg\" alt=\"Open In Colab\"/></a>"
      ]
    },
    {
      "cell_type": "markdown",
      "source": [
        "**Les Variables**"
      ],
      "metadata": {
        "id": "ZD17eTBAHV7g"
      }
    },
    {
      "cell_type": "code",
      "execution_count": 6,
      "metadata": {
        "colab": {
          "base_uri": "https://localhost:8080/"
        },
        "id": "KdO2FoSaRRp-",
        "outputId": "ae832af8-faa2-428a-f493-9878dc451553"
      },
      "outputs": [
        {
          "output_type": "stream",
          "name": "stdout",
          "text": [
            "{'monInt': 100, 'monStr': 'ma variable', 'monTuple': (100, 'mon élément inséré', 'ma variable')}\n"
          ]
        }
      ],
      "source": [
        "varInt = 100\n",
        "varStr = 'ma variable'\n",
        "varTuple = (varInt,varStr)\n",
        "varTuple = varTuple[:1]+('mon élément inséré',)+varTuple[1:]\n",
        "varDict = {'monInt':varInt,'monStr':varStr,'monTuple':varTuple}\n",
        "print(varDict)"
      ]
    },
    {
      "cell_type": "code",
      "source": [
        "varTuple[1:]"
      ],
      "metadata": {
        "id": "rtAwDYrBkgY0",
        "outputId": "e7711a64-288c-4556-a7d9-c11c57a1bd83",
        "colab": {
          "base_uri": "https://localhost:8080/"
        }
      },
      "execution_count": 10,
      "outputs": [
        {
          "output_type": "execute_result",
          "data": {
            "text/plain": [
              "('mon élément inséré', 'ma variable')"
            ]
          },
          "metadata": {},
          "execution_count": 10
        }
      ]
    },
    {
      "cell_type": "markdown",
      "source": [
        "**Les Opérateurs**"
      ],
      "metadata": {
        "id": "QUKbqOLVL_Ey"
      }
    },
    {
      "cell_type": "code",
      "source": [
        "maListe = [2,4,6]\n",
        "add = maListe[1]+maListe[2]\n",
        "print (add)\n",
        "mod = add%4\n",
        "print (mod)\n",
        "quo = add//4\n",
        "print(quo)\n",
        "if (add > 9):\n",
        "  print(\"L'addition est bien superieure à 9\")\n",
        "maListe2 = ['je','parle','le','Python']\n",
        "if ('Python' in maListe2):\n",
        "  print('Le mot Python est bien dans la liste')\n",
        "if ('Vipère' not in maListe2):\n",
        "  print(\"Le mot Vipère n'est pas dans la liste\")\n",
        "if (maListe2 is not None):\n",
        "  print(\"La liste n'est pas vide\")"
      ],
      "metadata": {
        "colab": {
          "base_uri": "https://localhost:8080/"
        },
        "id": "cDZIuRmMmE_1",
        "outputId": "6643d0c4-eec0-4784-b1be-48e32f278b20"
      },
      "execution_count": null,
      "outputs": [
        {
          "output_type": "stream",
          "name": "stdout",
          "text": [
            "10\n",
            "2\n",
            "2\n",
            "L'addition est bien superieure à 9\n",
            "Le mot Python est bien dans la liste\n",
            "Le mot Vipère n'est pas dans la liste\n",
            "La liste n'est pas vide\n"
          ]
        }
      ]
    },
    {
      "cell_type": "markdown",
      "source": [
        "**Les instructions conditionelles**"
      ],
      "metadata": {
        "id": "jaG_U3DoMwu-"
      }
    },
    {
      "cell_type": "code",
      "source": [
        "num1=int(input(\"Saisir le nombre 1 : \"))\n",
        "num2=int(input(\"Saisir le nombre 2 : \"))\n",
        "num3=int(input(\"Saisir le nombre 3 : \"))\n",
        " \n",
        "# comparer num1, num2 et num3 pour obtenir le nombre le plus élevé\n",
        " \n",
        "# afficher le résultat */\n",
        "print(\"le maximum est = \", max)"
      ],
      "metadata": {
        "id": "dG2KyuqI97Ue"
      },
      "execution_count": null,
      "outputs": []
    },
    {
      "cell_type": "code",
      "source": [
        "num1=int(input(\"Saisir le nombre 1 : \"))\n",
        "num2=int(input(\"Saisir le nombre 2 : \"))\n",
        "num3=int(input(\"Saisir le nombre 3 : \"))\n",
        " \n",
        "if num1 > num2:\n",
        "    if num1 > num3:\n",
        "        # si num1 > num2 et num1 > num3 */\n",
        "        max = num1\n",
        "    else:\n",
        "        # si num1 > num2 mais num1 > num3 est fausse */\n",
        "        max = num3\n",
        "else:\n",
        "    if num2 > num3:\n",
        "        # Si num1 < num2 et num2 > num3 */\n",
        "        max = num2\n",
        "    else:\n",
        "        # si num1 < num2 et num2 > num3 */\n",
        "        max = num3\n",
        " \n",
        "# afficher le résultat */\n",
        "print(\"le maximum est = \", max)"
      ],
      "metadata": {
        "colab": {
          "base_uri": "https://localhost:8080/"
        },
        "id": "mrFkbmIy8Kud",
        "outputId": "d8ee5ebc-5538-4485-c999-d7c51f8af507"
      },
      "execution_count": null,
      "outputs": [
        {
          "output_type": "stream",
          "name": "stdout",
          "text": [
            "Saisir le nombre 1 : 52\n",
            "Saisir le nombre 2 : 10\n",
            "Saisir le nombre 3 : 3\n",
            "le maximum est =  52\n"
          ]
        }
      ]
    },
    {
      "cell_type": "markdown",
      "source": [
        "**Les boucles**"
      ],
      "metadata": {
        "id": "BMUDQWvzNPvm"
      }
    },
    {
      "cell_type": "code",
      "source": [
        "i=1\n",
        "while (i <= 10) :\n",
        "  print(i)\n",
        "  i += 1"
      ],
      "metadata": {
        "colab": {
          "base_uri": "https://localhost:8080/"
        },
        "id": "KLdHzCa2QDQ4",
        "outputId": "76b10306-ff61-4d76-ce54-019554215fd9"
      },
      "execution_count": null,
      "outputs": [
        {
          "output_type": "stream",
          "name": "stdout",
          "text": [
            "1\n",
            "2\n",
            "3\n",
            "4\n",
            "5\n",
            "6\n",
            "7\n",
            "8\n",
            "9\n",
            "10\n"
          ]
        }
      ]
    },
    {
      "cell_type": "code",
      "source": [
        "for i in range(0,11,2):\n",
        "  print(i)"
      ],
      "metadata": {
        "colab": {
          "base_uri": "https://localhost:8080/"
        },
        "id": "z7R7h4aAQl3T",
        "outputId": "844a287c-8fc6-4963-94ba-da78e2b7318d"
      },
      "execution_count": null,
      "outputs": [
        {
          "output_type": "stream",
          "name": "stdout",
          "text": [
            "0\n",
            "2\n",
            "4\n",
            "6\n",
            "8\n",
            "10\n"
          ]
        }
      ]
    },
    {
      "cell_type": "code",
      "source": [
        "for i in range (50,-1,-5):\n",
        "  print(i)"
      ],
      "metadata": {
        "colab": {
          "base_uri": "https://localhost:8080/"
        },
        "id": "BQGFQ6foBq60",
        "outputId": "5005d168-c88f-470b-826c-12a9d2d60037"
      },
      "execution_count": null,
      "outputs": [
        {
          "output_type": "stream",
          "name": "stdout",
          "text": [
            "50\n",
            "45\n",
            "40\n",
            "35\n",
            "30\n",
            "25\n",
            "20\n",
            "15\n",
            "10\n",
            "5\n",
            "0\n"
          ]
        }
      ]
    },
    {
      "cell_type": "code",
      "source": [
        "for i in range (1,11,1):\n",
        "  mult=7*i\n",
        "  print(\"7 x\",i,\"=\",mult)"
      ],
      "metadata": {
        "colab": {
          "base_uri": "https://localhost:8080/"
        },
        "id": "9jcu2ceGB-mH",
        "outputId": "66c409d3-4f9a-4e3a-ae34-ce83310696a8"
      },
      "execution_count": null,
      "outputs": [
        {
          "output_type": "stream",
          "name": "stdout",
          "text": [
            "7 x 1 = 7\n",
            "7 x 2 = 14\n",
            "7 x 3 = 21\n",
            "7 x 4 = 28\n",
            "7 x 5 = 35\n",
            "7 x 6 = 42\n",
            "7 x 7 = 49\n",
            "7 x 8 = 56\n",
            "7 x 9 = 63\n",
            "7 x 10 = 70\n"
          ]
        }
      ]
    },
    {
      "cell_type": "markdown",
      "source": [
        "**Les fonctions**"
      ],
      "metadata": {
        "id": "banFeIaNNXRy"
      }
    },
    {
      "cell_type": "code",
      "source": [
        "def tableMult (nb):\n",
        "  for i in range (1,11,1):\n",
        "    mult=nb*i\n",
        "    print(nb,\"x\",i,\"=\",mult)\n",
        "\n",
        "tableMult (7)"
      ],
      "metadata": {
        "colab": {
          "base_uri": "https://localhost:8080/"
        },
        "id": "AKiVD4JyNQES",
        "outputId": "30fbe997-ed4e-44f0-e1cd-33d5c8d3cf4f"
      },
      "execution_count": null,
      "outputs": [
        {
          "output_type": "stream",
          "name": "stdout",
          "text": [
            "7 x 1 = 7\n",
            "7 x 2 = 14\n",
            "7 x 3 = 21\n",
            "7 x 4 = 28\n",
            "7 x 5 = 35\n",
            "7 x 6 = 42\n",
            "7 x 7 = 49\n",
            "7 x 8 = 56\n",
            "7 x 9 = 63\n",
            "7 x 10 = 70\n"
          ]
        }
      ]
    }
  ]
}