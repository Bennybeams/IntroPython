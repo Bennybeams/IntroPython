{
  "nbformat": 4,
  "nbformat_minor": 0,
  "metadata": {
    "colab": {
      "name": "JustePrix.ipynb",
      "provenance": [],
      "toc_visible": true,
      "authorship_tag": "ABX9TyMLaaBeHFYR7WqnwqLONcaQ",
      "include_colab_link": true
    },
    "kernelspec": {
      "name": "python3",
      "display_name": "Python 3"
    },
    "language_info": {
      "name": "python"
    }
  },
  "cells": [
    {
      "cell_type": "markdown",
      "metadata": {
        "id": "view-in-github",
        "colab_type": "text"
      },
      "source": [
        "<a href=\"https://colab.research.google.com/github/Bennybeams/IntroPython/blob/main/JustePrix.ipynb\" target=\"_parent\"><img src=\"https://colab.research.google.com/assets/colab-badge.svg\" alt=\"Open In Colab\"/></a>"
      ]
    },
    {
      "cell_type": "markdown",
      "source": [
        "## Le Juste Prix\n",
        "\n",
        "Consignes :\n",
        "- Le programme détermine aléatoirement un prix entre 30 et 100$ que le joueur doit deviner\n",
        "- A chaque proposition le programme indique si la proposition est inferieure ou superieure au prix\n",
        "- Le joueur a droit à 10 propositions. Si il trouve le bon prix il a gagné"
      ],
      "metadata": {
        "id": "ZbfUKQ1zOQHh"
      }
    },
    {
      "cell_type": "code",
      "execution_count": null,
      "metadata": {
        "colab": {
          "base_uri": "https://localhost:8080/"
        },
        "id": "7AQhSstUOEb6",
        "outputId": "34f12b58-cd33-4942-9b7e-50191bdcf50c"
      },
      "outputs": [
        {
          "output_type": "stream",
          "name": "stdout",
          "text": [
            "Prix minimum ?1000\n",
            "Prix maximum ?10000\n",
            "Nombre de proposition maximum ?10\n",
            "Quelle est ta proposition ?5000\n",
            "C'est plus !\n",
            "Quelle est ta proposition ?7000\n",
            "C'est plus !\n",
            "Quelle est ta proposition ?9000\n",
            "C'est moins !\n",
            "Quelle est ta proposition ?8000\n",
            "C'est plus !\n",
            "Quelle est ta proposition ?8500\n",
            "C'est plus !\n",
            "Quelle est ta proposition ?8700\n",
            "C'est plus !\n",
            "Quelle est ta proposition ?8900\n",
            "C'est plus !\n",
            "Quelle est ta proposition ?8990\n",
            "C'est moins !\n",
            "Quelle est ta proposition ?8950\n",
            "C'est plus !\n",
            "Quelle est ta proposition ?8960\n",
            "C'est moins !\n",
            "Désolé tu as perdu\n",
            "Le prix à trouver était 8955 $\n",
            "Merci d'avoir joué !\n"
          ]
        }
      ],
      "source": [
        "import random\n",
        "\n",
        "countr=0\n",
        "win=False\n",
        "\n",
        "prixmin=int(input(\"Prix minimum ?\")) # Configuration des paramètres du jeu\n",
        "prixmax=int(input(\"Prix maximum ?\"))\n",
        "nbprop=int(input(\"Nombre de proposition maximum ?\"))\n",
        "\n",
        "bonprix=random.randint(prixmin,prixmax) # Génération du prix aléatoire\n",
        "\n",
        "for i in range(0,nbprop+1): # Pose la question un nombre nbprop de fois\n",
        "  # On pose d'abord les conditions de sortie de la boucle\n",
        "  if (countr>=nbprop and win==False): # Si on a dépassé le nombre de proposition sans trouver la réponse\n",
        "    print(\"Désolé tu as perdu\")\n",
        "    print(\"Le prix à trouver était\", bonprix, \"$\")\n",
        "    break\n",
        "  elif (countr<=nbprop and win==True): # Si on a trouvé la bonne réponse et que le nombre de proposition n'est pas atteint\n",
        "    print(\"Bravo tu as gagné !\")\n",
        "    print(\"Nombre de propositions =\", countr)\n",
        "    print(\"Prix =\", bonprix, \"$\")\n",
        "    break\n",
        "  elif (countr<=nbprop and win==False): # Si on n'a pas atteint le nombre de questions et que l'on n'a pas gagné on pose la question      \n",
        "    while True:                         # Si on retourne une erreur alors on affiche un message et on continue\n",
        "      try:\n",
        "        prop = int(input(\"Quelle est ta proposition ?\"))  \n",
        "        countr += 1\n",
        "        break\n",
        "      except ValueError:\n",
        "        print(\"Oops! Ce n'est pas un nombre valide...\")\n",
        "\n",
        "  if prop == 1234 : # Cheatcode : si on entre le code 1234 comme proposition le programme affiche le bon prix            \n",
        "    print(\"Cheatcode ! Le prix à trouver est :\",bonprix)\n",
        "  elif prop > bonprix:\n",
        "    print(\"C'est moins !\")\n",
        "  elif prop < bonprix:\n",
        "    print(\"C'est plus !\")\n",
        "  else : # Si la proposition n'est ni inferieure, ni superieure, c'est qu'elle est égale et donc que c'est gagné !\n",
        "    win=True\n",
        "\n",
        "print(\"Merci d'avoir joué !\") # Permet de vérifier que le programme est bien terminé"
      ]
    }
  ]
}