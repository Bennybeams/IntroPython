{
  "nbformat": 4,
  "nbformat_minor": 0,
  "metadata": {
    "colab": {
      "name": "Introduction à Python.ipynb",
      "provenance": [],
      "collapsed_sections": [],
      "mount_file_id": "1JKnbCgpXbdrVLMiAv5cR8qqyQSVoKSkr",
      "authorship_tag": "ABX9TyMCfliYwdAMWOWmR0TPulQG",
      "include_colab_link": true
    },
    "kernelspec": {
      "name": "python3",
      "display_name": "Python 3"
    },
    "language_info": {
      "name": "python"
    }
  },
  "cells": [
    {
      "cell_type": "markdown",
      "metadata": {
        "id": "view-in-github",
        "colab_type": "text"
      },
      "source": [
        "<a href=\"https://colab.research.google.com/github/Bennybeams/IntroPython/blob/main/Introduction_%C3%A0_Python.ipynb\" target=\"_parent\"><img src=\"https://colab.research.google.com/assets/colab-badge.svg\" alt=\"Open In Colab\"/></a>"
      ]
    },
    {
      "cell_type": "markdown",
      "source": [
        "## Les variables"
      ],
      "metadata": {
        "id": "7dYM8b4Pzzmy"
      }
    },
    {
      "cell_type": "code",
      "source": [
        "var1 = 200 #un entier\n",
        "var2 = 0xC8 #en hexadécimal\n",
        "var3 = 0o310 #en octal\n",
        "var4 = -21.9 #un réel à virgule flottante\n",
        "var5 = 3.14j #un nombre complexe\n",
        "print(type(var1),var1)\n",
        "print(type(var2),var2)\n",
        "print(type(var3),var3)\n",
        "print(type(var4),var4)\n",
        "print(type(var5),var5)"
      ],
      "metadata": {
        "colab": {
          "base_uri": "https://localhost:8080/"
        },
        "id": "U9-RyCcm2FfO",
        "outputId": "ebc337d4-02a4-4f92-aeb7-668c9e793b9b"
      },
      "execution_count": null,
      "outputs": [
        {
          "output_type": "stream",
          "name": "stdout",
          "text": [
            "<class 'int'> 200\n",
            "<class 'int'> 200\n",
            "<class 'int'> 200\n",
            "<class 'float'> -21.9\n",
            "<class 'complex'> 3.14j\n"
          ]
        }
      ]
    },
    {
      "cell_type": "code",
      "source": [
        "str = 'Hello World!'\n",
        "\n",
        "print(type(str))\n",
        "print(str)          # Affiche la chaine de caractères\n",
        "print(str[0])       # Affiche le premier caractère de la chaine\n",
        "print(str[2:5])     # Affiche la chaine du 3nd au 5e caractère\n",
        "print(str[2:])      # Affiche la chaine à partir du 3e caractère\n",
        "print(str * 2)      # Affiche la chaine deux fois\n",
        "print(str + \"TEST\") # Affiche 'TEST' après la chaine de caractère"
      ],
      "metadata": {
        "colab": {
          "base_uri": "https://localhost:8080/"
        },
        "id": "xF6EhejWKaOS",
        "outputId": "8e113cf3-1b63-48f0-8f18-f3c88588d376"
      },
      "execution_count": null,
      "outputs": [
        {
          "output_type": "stream",
          "name": "stdout",
          "text": [
            "<class 'str'>\n",
            "Hello World!\n",
            "H\n",
            "llo\n",
            "llo World!\n",
            "Hello World!Hello World!\n",
            "Hello World!TEST\n"
          ]
        }
      ]
    },
    {
      "cell_type": "code",
      "source": [
        "list = [ 'abcd', 786 , 2.23, 'john', 70.2 ]\n",
        "tinylist = [123, 'john']\n",
        "\n",
        "print(type(list))\n",
        "print(list)          # Affiche la liste complete\n",
        "print(list[0])       # Affiche le premier élément de la liste\n",
        "print(list[1:3])     # Affiche les éléments du 2nd au 3eme \n",
        "print(list[2:])      # Affiche les éléments à partir du 3eme\n",
        "print(tinylist * 2)  # Affiche la liste 'tinylist' deux fois\n",
        "print(list + tinylist) # Affiche la liste plus tinylist"
      ],
      "metadata": {
        "colab": {
          "base_uri": "https://localhost:8080/"
        },
        "id": "1n9GY8kuaNBF",
        "outputId": "d3414356-d721-4fd5-a975-28b60d467ffb"
      },
      "execution_count": null,
      "outputs": [
        {
          "output_type": "stream",
          "name": "stdout",
          "text": [
            "<class 'list'>\n",
            "['abcd', 786, 2.23, 'john', 70.2]\n",
            "abcd\n",
            "[786, 2.23]\n",
            "[2.23, 'john', 70.2]\n",
            "[123, 'john', 123, 'john']\n",
            "['abcd', 786, 2.23, 'john', 70.2, 123, 'john']\n"
          ]
        }
      ]
    },
    {
      "cell_type": "code",
      "source": [
        "tuple = ( 'abcd', 786 , 2.23, 'john', 70.2  )\n",
        "tinytuple = (123, 'john')\n",
        "\n",
        "print(tuple)               # Affiche le tuple complet\n",
        "print(tuple[0])            # Affiche le 1er élément du tuple\n",
        "print(tuple[1:3])          # Affiche les éléments du 2nd au 3eme \n",
        "print(tuple[2:])           # Affiche les éléments à partir du 3eme\n",
        "print(tinytuple * 2)       # Affiche le tuple 'tinytuple' deux fois\n",
        "print(tuple + tinytuple)   # Affiche le tuple complet plus tinytuple\n",
        "\n",
        "tuple[0]='wxyz'"
      ],
      "metadata": {
        "colab": {
          "base_uri": "https://localhost:8080/",
          "height": 304
        },
        "id": "GjIO_kjqnkr0",
        "outputId": "f1a96ca2-7967-4fdd-c5a1-8eedb682c6d5"
      },
      "execution_count": null,
      "outputs": [
        {
          "output_type": "stream",
          "name": "stdout",
          "text": [
            "('abcd', 786, 2.23, 'john', 70.2)\n",
            "abcd\n",
            "(786, 2.23)\n",
            "(2.23, 'john', 70.2)\n",
            "(123, 'john', 123, 'john')\n",
            "('abcd', 786, 2.23, 'john', 70.2, 123, 'john')\n"
          ]
        },
        {
          "output_type": "error",
          "ename": "TypeError",
          "evalue": "ignored",
          "traceback": [
            "\u001b[0;31m---------------------------------------------------------------------------\u001b[0m",
            "\u001b[0;31mTypeError\u001b[0m                                 Traceback (most recent call last)",
            "\u001b[0;32m<ipython-input-40-e91265d27b79>\u001b[0m in \u001b[0;36m<module>\u001b[0;34m()\u001b[0m\n\u001b[1;32m      9\u001b[0m \u001b[0mprint\u001b[0m\u001b[0;34m(\u001b[0m\u001b[0mtuple\u001b[0m \u001b[0;34m+\u001b[0m \u001b[0mtinytuple\u001b[0m\u001b[0;34m)\u001b[0m   \u001b[0;31m# Affiche le tuple complet plus tinytuple\u001b[0m\u001b[0;34m\u001b[0m\u001b[0;34m\u001b[0m\u001b[0m\n\u001b[1;32m     10\u001b[0m \u001b[0;34m\u001b[0m\u001b[0m\n\u001b[0;32m---> 11\u001b[0;31m \u001b[0mtuple\u001b[0m\u001b[0;34m[\u001b[0m\u001b[0;36m0\u001b[0m\u001b[0;34m]\u001b[0m\u001b[0;34m=\u001b[0m\u001b[0;34m'wxyz'\u001b[0m\u001b[0;34m\u001b[0m\u001b[0;34m\u001b[0m\u001b[0m\n\u001b[0m",
            "\u001b[0;31mTypeError\u001b[0m: 'tuple' object does not support item assignment"
          ]
        }
      ]
    },
    {
      "cell_type": "code",
      "source": [
        "dict = {}\n",
        "dict['one'] = \"This is one\"\n",
        "dict[2]     = \"This is two\"\n",
        "\n",
        "tinydict = {'name': 'john','code':6734, 'dept': 'sales'}\n",
        "\n",
        "\n",
        "print (dict['one'])       # Affiche l'élément correspondant à la clé 'one'\n",
        "print (dict[2])           # Affiche l'élément correspondant à la clé 2\n",
        "print (tinydict)          # Affiche le dictionnaire complet\n",
        "print (tinydict.keys())   # Affiche les clés du dictionnaire\n",
        "print (tinydict.values()) # Affiche les valeurs du dictionnaire"
      ],
      "metadata": {
        "colab": {
          "base_uri": "https://localhost:8080/"
        },
        "id": "QbtGsD2jw1rE",
        "outputId": "0b4b24ed-2f02-4ae0-ea93-6072141a03fe"
      },
      "execution_count": null,
      "outputs": [
        {
          "output_type": "stream",
          "name": "stdout",
          "text": [
            "This is one\n",
            "This is two\n",
            "{'name': 'john', 'code': 6734, 'dept': 'sales'}\n",
            "dict_keys(['name', 'code', 'dept'])\n",
            "dict_values(['john', 6734, 'sales'])\n"
          ]
        }
      ]
    },
    {
      "cell_type": "code",
      "source": [
        "print(bool(1))\n",
        "print(bool(0))\n",
        "print(bool(12))\n",
        "print(bool([1,2]))\n",
        "print(bool([]))"
      ],
      "metadata": {
        "colab": {
          "base_uri": "https://localhost:8080/"
        },
        "id": "6NOI4SiFtWP1",
        "outputId": "4870e8be-5bb7-4a1f-f3d3-6555f27a5867"
      },
      "execution_count": null,
      "outputs": [
        {
          "output_type": "stream",
          "name": "stdout",
          "text": [
            "True\n",
            "False\n",
            "True\n",
            "True\n",
            "False\n"
          ]
        }
      ]
    },
    {
      "cell_type": "markdown",
      "source": [
        "## Les opérateurs"
      ],
      "metadata": {
        "id": "HwCruYD4z5Vp"
      }
    },
    {
      "cell_type": "code",
      "source": [
        "a=10\n",
        "b=20\n",
        "add = a+b\n",
        "sous = a-b\n",
        "mult = a*b\n",
        "modu = a%b\n",
        "exp = a**b\n",
        "quot = a//b\n",
        "print('Addition :',add)\n",
        "print('Soustraction :',sous)\n",
        "print('Multiplication :',mult)\n",
        "print('Modulo :',modu)\n",
        "print('Exposant :',exp)\n",
        "print('Quotient :',quot)"
      ],
      "metadata": {
        "colab": {
          "base_uri": "https://localhost:8080/"
        },
        "id": "Y_NFRfCoetZw",
        "outputId": "72b31999-84ce-4a12-e38f-dd52385843d5"
      },
      "execution_count": null,
      "outputs": [
        {
          "output_type": "stream",
          "name": "stdout",
          "text": [
            "Addition : 30\n",
            "Soustraction : -10\n",
            "Multiplication : 200\n",
            "Modulo : 10\n",
            "Exposant : 100000000000000000000\n",
            "Quotient : 0\n"
          ]
        }
      ]
    },
    {
      "cell_type": "code",
      "source": [
        "a = 1\n",
        "print('a=',a)\n",
        "a += 2\n",
        "print('a+2=',a)\n",
        "a -= 1\n",
        "print('a-1=',a)\n",
        "a *= 2\n",
        "print('a*2=',a)\n",
        "a **= 2\n",
        "print('a**2=',a)\n",
        "a /= 3\n",
        "print('a/3=',a)\n",
        "a %= 3\n",
        "print('a%3=',a)\n",
        "a //= 2\n",
        "print('a//2=',a)"
      ],
      "metadata": {
        "colab": {
          "base_uri": "https://localhost:8080/"
        },
        "id": "qufZ5oqDmyTL",
        "outputId": "6549687e-60c1-4a1e-c3b2-a63f6459a895"
      },
      "execution_count": null,
      "outputs": [
        {
          "output_type": "stream",
          "name": "stdout",
          "text": [
            "a= 1\n",
            "a+2= 3\n",
            "a-1= 2\n",
            "a*2= 4\n",
            "a**2= 16\n",
            "a/3= 5.333333333333333\n",
            "a%3= 2.333333333333333\n",
            "a//2= 1.0\n"
          ]
        }
      ]
    },
    {
      "cell_type": "code",
      "source": [
        "a=1\n",
        "b=2\n",
        "c=3\n",
        "if (a==1 and b==2):\n",
        "  print('a=1 et b=2')\n",
        "if (a==1 or c==3):\n",
        "  print('a=1 ou c=3')\n",
        "if (a==1 and b!=3):\n",
        "  print(\"a=1 et b n'est pas égal à 3\")\n",
        "if (a<b):\n",
        "  print(\"a est inferieur à b\")"
      ],
      "metadata": {
        "colab": {
          "base_uri": "https://localhost:8080/"
        },
        "id": "Bf81mRDX3Rsv",
        "outputId": "0bf8afd9-72fe-4da2-8f05-bede1ea74fbe"
      },
      "execution_count": null,
      "outputs": [
        {
          "output_type": "stream",
          "name": "stdout",
          "text": [
            "a=1 et b=2\n",
            "a=1 ou c=3\n",
            "a=1 et b n'est pas égal à 3\n"
          ]
        }
      ]
    },
    {
      "cell_type": "markdown",
      "source": [
        "## Les instructions conditionelles"
      ],
      "metadata": {
        "id": "zVK-jHBS0MkE"
      }
    },
    {
      "cell_type": "code",
      "source": [
        "booVenimeux = True #Est ce que ce serpent est venimeux ?\n",
        "if (booVenimeux == True):\n",
        "  print(\"Ce n'est pas un Python\")"
      ],
      "metadata": {
        "colab": {
          "base_uri": "https://localhost:8080/"
        },
        "id": "il_aBUk-z9iN",
        "outputId": "169a429e-d1ad-461f-bee1-8a3fad80bfc3"
      },
      "execution_count": null,
      "outputs": [
        {
          "output_type": "stream",
          "name": "stdout",
          "text": [
            "Ce n'est pas un Python\n"
          ]
        }
      ]
    },
    {
      "cell_type": "code",
      "source": [
        "booVenimeux = False #Est ce que ce serpent est venimeux ?\n",
        "if (booVenimeux == True):\n",
        "  print(\"Ce n'est pas un Python\")\n",
        "else :\n",
        "  print(\"C'est peut être un Python\")"
      ],
      "metadata": {
        "colab": {
          "base_uri": "https://localhost:8080/"
        },
        "id": "Y82ggm0DzyFt",
        "outputId": "04fd10de-de62-4926-c0f6-59a7dfe8b1b2"
      },
      "execution_count": null,
      "outputs": [
        {
          "output_type": "stream",
          "name": "stdout",
          "text": [
            "C'est peut être un Python\n"
          ]
        }
      ]
    },
    {
      "cell_type": "code",
      "source": [
        "booVenimeux = False #Est ce que ce serpent est venimeux ?\n",
        "booLangage = True #Est ce que son nom est aussi un langage de programmation ?\n",
        "if (booVenimeux == True):\n",
        "  print(\"Ce n'est pas un Python (il est venimeux)\")\n",
        "elif (booLangage == True):\n",
        "  print(\"C'est sûrement un Python\")\n",
        "else :\n",
        "  print(\"Ce n'est pas un Python (pas un langage de programmation)\")"
      ],
      "metadata": {
        "colab": {
          "base_uri": "https://localhost:8080/"
        },
        "id": "f3w2WdWj1TY8",
        "outputId": "220e24ae-aa2c-4cbb-e5f1-8486bc31e6c3"
      },
      "execution_count": null,
      "outputs": [
        {
          "output_type": "stream",
          "name": "stdout",
          "text": [
            "C'est sûrement un Python\n"
          ]
        }
      ]
    },
    {
      "cell_type": "markdown",
      "source": [
        "## Les boucles"
      ],
      "metadata": {
        "id": "Bj9RaT2dF_nq"
      }
    },
    {
      "cell_type": "code",
      "source": [
        "nb = 1\n",
        "while nb <= 5:\n",
        "    print(nb)\n",
        "    nb += 1\n",
        "else:\n",
        "    print(\"bye bye\")"
      ],
      "metadata": {
        "colab": {
          "base_uri": "https://localhost:8080/"
        },
        "id": "5lranXEGGEZp",
        "outputId": "ebed9568-7c3b-4a45-eac3-c545dd638e43"
      },
      "execution_count": null,
      "outputs": [
        {
          "output_type": "stream",
          "name": "stdout",
          "text": [
            "1\n",
            "2\n",
            "3\n",
            "4\n",
            "5\n",
            "bye bye\n"
          ]
        }
      ]
    },
    {
      "cell_type": "code",
      "source": [
        "D = {}\n",
        "D['nom'] = 'BERNARD'\n",
        "D['prenom'] = 'Benjamin'\n",
        "D['Annee'] = 2022\n",
        "for cle in D:\n",
        "    print(cle, ' : ', D[cle])"
      ],
      "metadata": {
        "colab": {
          "base_uri": "https://localhost:8080/"
        },
        "id": "M8CadNC9ObAQ",
        "outputId": "ae8945f1-84ce-42cf-adad-43344515c798"
      },
      "execution_count": null,
      "outputs": [
        {
          "output_type": "stream",
          "name": "stdout",
          "text": [
            "nom  :  BERNARD\n",
            "prenom  :  Benjamin\n",
            "Annee  :  2022\n"
          ]
        }
      ]
    },
    {
      "cell_type": "code",
      "source": [
        "print(\"Les multiples de 3 de 0 à 20 sont : \")\n",
        "for i in range(0,20,3) :\n",
        "    print(i)"
      ],
      "metadata": {
        "colab": {
          "base_uri": "https://localhost:8080/"
        },
        "id": "VgCGvRE-OcJR",
        "outputId": "facc0344-e6e0-4125-8527-46730bd95169"
      },
      "execution_count": null,
      "outputs": [
        {
          "output_type": "stream",
          "name": "stdout",
          "text": [
            "Les multiples de 3 de 0 à 20 sont : \n",
            "0\n",
            "3\n",
            "6\n",
            "9\n",
            "12\n",
            "15\n",
            "18\n"
          ]
        }
      ]
    },
    {
      "cell_type": "markdown",
      "source": [
        "## Les fonctions"
      ],
      "metadata": {
        "id": "VtQRYJOHGa4E"
      }
    },
    {
      "cell_type": "code",
      "source": [
        "def salutations(nom):\n",
        "  print(\"Bonjour\",nom)\n",
        "\n",
        "entrée = str(input(\"Quel est ton nom ? \"))\n",
        "salutations(entrée)"
      ],
      "metadata": {
        "colab": {
          "base_uri": "https://localhost:8080/"
        },
        "id": "OfksawTpGZ4j",
        "outputId": "2fd7a010-f3d8-4140-e00c-ed8b817f55b8"
      },
      "execution_count": null,
      "outputs": [
        {
          "output_type": "stream",
          "name": "stdout",
          "text": [
            "Quel est ton nom ? Benjamin\n",
            "Bonjour Benjamin\n"
          ]
        }
      ]
    },
    {
      "cell_type": "markdown",
      "source": [
        "## Les dataframes avec Pandas"
      ],
      "metadata": {
        "id": "QNZCVd4Ka76K"
      }
    },
    {
      "cell_type": "code",
      "source": [
        "import pandas as pd\n",
        "\n",
        "data=pd.read_csv(\"/content/drive/MyDrive/Superstore.csv\",encoding='latin1',sep=',')\n",
        "data.head()"
      ],
      "metadata": {
        "colab": {
          "base_uri": "https://localhost:8080/",
          "height": 574
        },
        "id": "shjRyDGya7LA",
        "outputId": "886c8456-c256-46b0-b83a-0eef0f12fc83"
      },
      "execution_count": null,
      "outputs": [
        {
          "output_type": "execute_result",
          "data": {
            "text/plain": [
              "   Row ID        Order ID            Order Date             Ship Date  \\\n",
              "0       1  CA-2016-152156  2016-11-08T00:00:00Z  2016-11-11T00:00:00Z   \n",
              "1       2  CA-2016-152156  2016-11-08T00:00:00Z  2016-11-11T00:00:00Z   \n",
              "2       3  CA-2016-138688  2016-06-12T00:00:00Z  2016-06-16T00:00:00Z   \n",
              "3       4  US-2015-108966  2015-10-11T00:00:00Z  2015-10-18T00:00:00Z   \n",
              "4       5  US-2015-108966  2015-10-11T00:00:00Z  2015-10-18T00:00:00Z   \n",
              "\n",
              "        Ship Mode Customer ID    Customer Name    Segment        Country  \\\n",
              "0    Second Class    CG-12520      Claire Gute   Consumer  United States   \n",
              "1    Second Class    CG-12520      Claire Gute   Consumer  United States   \n",
              "2    Second Class    DV-13045  Darrin Van Huff  Corporate  United States   \n",
              "3  Standard Class    SO-20335   Sean O'Donnell   Consumer  United States   \n",
              "4  Standard Class    SO-20335   Sean O'Donnell   Consumer  United States   \n",
              "\n",
              "              City  ... Postal Code  Region       Product ID         Category  \\\n",
              "0        Henderson  ...       42420   South  FUR-BO-10001798        Furniture   \n",
              "1        Henderson  ...       42420   South  FUR-CH-10000454        Furniture   \n",
              "2      Los Angeles  ...       90036    West  OFF-LA-10000240  Office Supplies   \n",
              "3  Fort Lauderdale  ...       33311   South  FUR-TA-10000577        Furniture   \n",
              "4  Fort Lauderdale  ...       33311   South  OFF-ST-10000760  Office Supplies   \n",
              "\n",
              "  Sub-Category                                       Product Name     Sales  \\\n",
              "0    Bookcases                  Bush Somerset Collection Bookcase  261.9600   \n",
              "1       Chairs  Hon Deluxe Fabric Upholstered Stacking Chairs,...  731.9400   \n",
              "2       Labels  Self-Adhesive Address Labels for Typewriters b...   14.6200   \n",
              "3       Tables      Bretford CR4500 Series Slim Rectangular Table  957.5775   \n",
              "4      Storage                     Eldon Fold 'N Roll Cart System   22.3680   \n",
              "\n",
              "   Quantity  Discount    Profit  \n",
              "0         2      0.00   41.9136  \n",
              "1         3      0.00  219.5820  \n",
              "2         2      0.00    6.8714  \n",
              "3         5      0.45 -383.0310  \n",
              "4         2      0.20    2.5164  \n",
              "\n",
              "[5 rows x 21 columns]"
            ],
            "text/html": [
              "\n",
              "  <div id=\"df-1da43791-5d6e-46c2-aa62-9f245c45594e\">\n",
              "    <div class=\"colab-df-container\">\n",
              "      <div>\n",
              "<style scoped>\n",
              "    .dataframe tbody tr th:only-of-type {\n",
              "        vertical-align: middle;\n",
              "    }\n",
              "\n",
              "    .dataframe tbody tr th {\n",
              "        vertical-align: top;\n",
              "    }\n",
              "\n",
              "    .dataframe thead th {\n",
              "        text-align: right;\n",
              "    }\n",
              "</style>\n",
              "<table border=\"1\" class=\"dataframe\">\n",
              "  <thead>\n",
              "    <tr style=\"text-align: right;\">\n",
              "      <th></th>\n",
              "      <th>Row ID</th>\n",
              "      <th>Order ID</th>\n",
              "      <th>Order Date</th>\n",
              "      <th>Ship Date</th>\n",
              "      <th>Ship Mode</th>\n",
              "      <th>Customer ID</th>\n",
              "      <th>Customer Name</th>\n",
              "      <th>Segment</th>\n",
              "      <th>Country</th>\n",
              "      <th>City</th>\n",
              "      <th>...</th>\n",
              "      <th>Postal Code</th>\n",
              "      <th>Region</th>\n",
              "      <th>Product ID</th>\n",
              "      <th>Category</th>\n",
              "      <th>Sub-Category</th>\n",
              "      <th>Product Name</th>\n",
              "      <th>Sales</th>\n",
              "      <th>Quantity</th>\n",
              "      <th>Discount</th>\n",
              "      <th>Profit</th>\n",
              "    </tr>\n",
              "  </thead>\n",
              "  <tbody>\n",
              "    <tr>\n",
              "      <th>0</th>\n",
              "      <td>1</td>\n",
              "      <td>CA-2016-152156</td>\n",
              "      <td>2016-11-08T00:00:00Z</td>\n",
              "      <td>2016-11-11T00:00:00Z</td>\n",
              "      <td>Second Class</td>\n",
              "      <td>CG-12520</td>\n",
              "      <td>Claire Gute</td>\n",
              "      <td>Consumer</td>\n",
              "      <td>United States</td>\n",
              "      <td>Henderson</td>\n",
              "      <td>...</td>\n",
              "      <td>42420</td>\n",
              "      <td>South</td>\n",
              "      <td>FUR-BO-10001798</td>\n",
              "      <td>Furniture</td>\n",
              "      <td>Bookcases</td>\n",
              "      <td>Bush Somerset Collection Bookcase</td>\n",
              "      <td>261.9600</td>\n",
              "      <td>2</td>\n",
              "      <td>0.00</td>\n",
              "      <td>41.9136</td>\n",
              "    </tr>\n",
              "    <tr>\n",
              "      <th>1</th>\n",
              "      <td>2</td>\n",
              "      <td>CA-2016-152156</td>\n",
              "      <td>2016-11-08T00:00:00Z</td>\n",
              "      <td>2016-11-11T00:00:00Z</td>\n",
              "      <td>Second Class</td>\n",
              "      <td>CG-12520</td>\n",
              "      <td>Claire Gute</td>\n",
              "      <td>Consumer</td>\n",
              "      <td>United States</td>\n",
              "      <td>Henderson</td>\n",
              "      <td>...</td>\n",
              "      <td>42420</td>\n",
              "      <td>South</td>\n",
              "      <td>FUR-CH-10000454</td>\n",
              "      <td>Furniture</td>\n",
              "      <td>Chairs</td>\n",
              "      <td>Hon Deluxe Fabric Upholstered Stacking Chairs,...</td>\n",
              "      <td>731.9400</td>\n",
              "      <td>3</td>\n",
              "      <td>0.00</td>\n",
              "      <td>219.5820</td>\n",
              "    </tr>\n",
              "    <tr>\n",
              "      <th>2</th>\n",
              "      <td>3</td>\n",
              "      <td>CA-2016-138688</td>\n",
              "      <td>2016-06-12T00:00:00Z</td>\n",
              "      <td>2016-06-16T00:00:00Z</td>\n",
              "      <td>Second Class</td>\n",
              "      <td>DV-13045</td>\n",
              "      <td>Darrin Van Huff</td>\n",
              "      <td>Corporate</td>\n",
              "      <td>United States</td>\n",
              "      <td>Los Angeles</td>\n",
              "      <td>...</td>\n",
              "      <td>90036</td>\n",
              "      <td>West</td>\n",
              "      <td>OFF-LA-10000240</td>\n",
              "      <td>Office Supplies</td>\n",
              "      <td>Labels</td>\n",
              "      <td>Self-Adhesive Address Labels for Typewriters b...</td>\n",
              "      <td>14.6200</td>\n",
              "      <td>2</td>\n",
              "      <td>0.00</td>\n",
              "      <td>6.8714</td>\n",
              "    </tr>\n",
              "    <tr>\n",
              "      <th>3</th>\n",
              "      <td>4</td>\n",
              "      <td>US-2015-108966</td>\n",
              "      <td>2015-10-11T00:00:00Z</td>\n",
              "      <td>2015-10-18T00:00:00Z</td>\n",
              "      <td>Standard Class</td>\n",
              "      <td>SO-20335</td>\n",
              "      <td>Sean O'Donnell</td>\n",
              "      <td>Consumer</td>\n",
              "      <td>United States</td>\n",
              "      <td>Fort Lauderdale</td>\n",
              "      <td>...</td>\n",
              "      <td>33311</td>\n",
              "      <td>South</td>\n",
              "      <td>FUR-TA-10000577</td>\n",
              "      <td>Furniture</td>\n",
              "      <td>Tables</td>\n",
              "      <td>Bretford CR4500 Series Slim Rectangular Table</td>\n",
              "      <td>957.5775</td>\n",
              "      <td>5</td>\n",
              "      <td>0.45</td>\n",
              "      <td>-383.0310</td>\n",
              "    </tr>\n",
              "    <tr>\n",
              "      <th>4</th>\n",
              "      <td>5</td>\n",
              "      <td>US-2015-108966</td>\n",
              "      <td>2015-10-11T00:00:00Z</td>\n",
              "      <td>2015-10-18T00:00:00Z</td>\n",
              "      <td>Standard Class</td>\n",
              "      <td>SO-20335</td>\n",
              "      <td>Sean O'Donnell</td>\n",
              "      <td>Consumer</td>\n",
              "      <td>United States</td>\n",
              "      <td>Fort Lauderdale</td>\n",
              "      <td>...</td>\n",
              "      <td>33311</td>\n",
              "      <td>South</td>\n",
              "      <td>OFF-ST-10000760</td>\n",
              "      <td>Office Supplies</td>\n",
              "      <td>Storage</td>\n",
              "      <td>Eldon Fold 'N Roll Cart System</td>\n",
              "      <td>22.3680</td>\n",
              "      <td>2</td>\n",
              "      <td>0.20</td>\n",
              "      <td>2.5164</td>\n",
              "    </tr>\n",
              "  </tbody>\n",
              "</table>\n",
              "<p>5 rows × 21 columns</p>\n",
              "</div>\n",
              "      <button class=\"colab-df-convert\" onclick=\"convertToInteractive('df-1da43791-5d6e-46c2-aa62-9f245c45594e')\"\n",
              "              title=\"Convert this dataframe to an interactive table.\"\n",
              "              style=\"display:none;\">\n",
              "        \n",
              "  <svg xmlns=\"http://www.w3.org/2000/svg\" height=\"24px\"viewBox=\"0 0 24 24\"\n",
              "       width=\"24px\">\n",
              "    <path d=\"M0 0h24v24H0V0z\" fill=\"none\"/>\n",
              "    <path d=\"M18.56 5.44l.94 2.06.94-2.06 2.06-.94-2.06-.94-.94-2.06-.94 2.06-2.06.94zm-11 1L8.5 8.5l.94-2.06 2.06-.94-2.06-.94L8.5 2.5l-.94 2.06-2.06.94zm10 10l.94 2.06.94-2.06 2.06-.94-2.06-.94-.94-2.06-.94 2.06-2.06.94z\"/><path d=\"M17.41 7.96l-1.37-1.37c-.4-.4-.92-.59-1.43-.59-.52 0-1.04.2-1.43.59L10.3 9.45l-7.72 7.72c-.78.78-.78 2.05 0 2.83L4 21.41c.39.39.9.59 1.41.59.51 0 1.02-.2 1.41-.59l7.78-7.78 2.81-2.81c.8-.78.8-2.07 0-2.86zM5.41 20L4 18.59l7.72-7.72 1.47 1.35L5.41 20z\"/>\n",
              "  </svg>\n",
              "      </button>\n",
              "      \n",
              "  <style>\n",
              "    .colab-df-container {\n",
              "      display:flex;\n",
              "      flex-wrap:wrap;\n",
              "      gap: 12px;\n",
              "    }\n",
              "\n",
              "    .colab-df-convert {\n",
              "      background-color: #E8F0FE;\n",
              "      border: none;\n",
              "      border-radius: 50%;\n",
              "      cursor: pointer;\n",
              "      display: none;\n",
              "      fill: #1967D2;\n",
              "      height: 32px;\n",
              "      padding: 0 0 0 0;\n",
              "      width: 32px;\n",
              "    }\n",
              "\n",
              "    .colab-df-convert:hover {\n",
              "      background-color: #E2EBFA;\n",
              "      box-shadow: 0px 1px 2px rgba(60, 64, 67, 0.3), 0px 1px 3px 1px rgba(60, 64, 67, 0.15);\n",
              "      fill: #174EA6;\n",
              "    }\n",
              "\n",
              "    [theme=dark] .colab-df-convert {\n",
              "      background-color: #3B4455;\n",
              "      fill: #D2E3FC;\n",
              "    }\n",
              "\n",
              "    [theme=dark] .colab-df-convert:hover {\n",
              "      background-color: #434B5C;\n",
              "      box-shadow: 0px 1px 3px 1px rgba(0, 0, 0, 0.15);\n",
              "      filter: drop-shadow(0px 1px 2px rgba(0, 0, 0, 0.3));\n",
              "      fill: #FFFFFF;\n",
              "    }\n",
              "  </style>\n",
              "\n",
              "      <script>\n",
              "        const buttonEl =\n",
              "          document.querySelector('#df-1da43791-5d6e-46c2-aa62-9f245c45594e button.colab-df-convert');\n",
              "        buttonEl.style.display =\n",
              "          google.colab.kernel.accessAllowed ? 'block' : 'none';\n",
              "\n",
              "        async function convertToInteractive(key) {\n",
              "          const element = document.querySelector('#df-1da43791-5d6e-46c2-aa62-9f245c45594e');\n",
              "          const dataTable =\n",
              "            await google.colab.kernel.invokeFunction('convertToInteractive',\n",
              "                                                     [key], {});\n",
              "          if (!dataTable) return;\n",
              "\n",
              "          const docLinkHtml = 'Like what you see? Visit the ' +\n",
              "            '<a target=\"_blank\" href=https://colab.research.google.com/notebooks/data_table.ipynb>data table notebook</a>'\n",
              "            + ' to learn more about interactive tables.';\n",
              "          element.innerHTML = '';\n",
              "          dataTable['output_type'] = 'display_data';\n",
              "          await google.colab.output.renderOutput(dataTable, element);\n",
              "          const docLink = document.createElement('div');\n",
              "          docLink.innerHTML = docLinkHtml;\n",
              "          element.appendChild(docLink);\n",
              "        }\n",
              "      </script>\n",
              "    </div>\n",
              "  </div>\n",
              "  "
            ]
          },
          "metadata": {},
          "execution_count": 1
        }
      ]
    },
    {
      "cell_type": "code",
      "source": [
        "print(\">> Selectionner la colonne 'Customer Name'\")\n",
        "Customers = data[\"Customer Name\"]\n",
        "print(Customers)\n",
        "\n",
        "print(\">> Selectionner la ligne n° 3\")\n",
        "Ligne3 = data.iloc[3]\n",
        "print(Ligne3)\n",
        "\n",
        "print(\">> Selectionner la cellule de la colonne 'Customer Name' de la ligne 3\")\n",
        "print(data[\"Customer Name\"][3]) # d'abord la colonne et ensuite la ligne\n",
        "\n",
        "print(\">> Selectionner la cellule de la 12eme colonne et 4eme ligne\")\n",
        "print(data.iat[3,10]) # d'abord la ligne et ensuite la colonne. La colonne index ne compte pas.\n",
        "\n",
        "print(\">> modifier la valeur de la cellule de la 12eme colonne et 4eme ligne\")\n",
        "data.iat[3,9] = \"Orlando\"\n",
        "print(\"Après modif :\",data.iat[3,9])"
      ],
      "metadata": {
        "colab": {
          "base_uri": "https://localhost:8080/"
        },
        "id": "zyRmjDoUd-PR",
        "outputId": "7cb34ff2-0354-4345-c6cd-e8395763ee5c"
      },
      "execution_count": null,
      "outputs": [
        {
          "output_type": "stream",
          "name": "stdout",
          "text": [
            ">> Selectionner la colonne 'Customer Name'\n",
            "0            Claire Gute\n",
            "1            Claire Gute\n",
            "2        Darrin Van Huff\n",
            "3         Sean O'Donnell\n",
            "4         Sean O'Donnell\n",
            "              ...       \n",
            "9989    Tom Boeckenhauer\n",
            "9990         Dave Brooks\n",
            "9991         Dave Brooks\n",
            "9992         Dave Brooks\n",
            "9993        Chris Cortes\n",
            "Name: Customer Name, Length: 9994, dtype: object\n",
            ">> Selectionner la ligne n° 3\n",
            "Row ID                                                       4\n",
            "Order ID                                        US-2015-108966\n",
            "Order Date                                2015-10-11T00:00:00Z\n",
            "Ship Date                                 2015-10-18T00:00:00Z\n",
            "Ship Mode                                       Standard Class\n",
            "Customer ID                                           SO-20335\n",
            "Customer Name                                   Sean O'Donnell\n",
            "Segment                                               Consumer\n",
            "Country                                          United States\n",
            "City                                           Fort Lauderdale\n",
            "State                                                  Florida\n",
            "Postal Code                                              33311\n",
            "Region                                                   South\n",
            "Product ID                                     FUR-TA-10000577\n",
            "Category                                             Furniture\n",
            "Sub-Category                                            Tables\n",
            "Product Name     Bretford CR4500 Series Slim Rectangular Table\n",
            "Sales                                                 957.5775\n",
            "Quantity                                                     5\n",
            "Discount                                                  0.45\n",
            "Profit                                                -383.031\n",
            "Name: 3, dtype: object\n",
            ">> Selectionner la cellule de la colonne 'Customer Name' de la ligne 3\n",
            "Sean O'Donnell\n",
            ">> Selectionner la cellule de la 12eme colonne et 4eme ligne\n",
            "Florida\n",
            ">> modifier la valeur de la cellule de la 12eme colonne et 4eme ligne\n",
            "Après modif : Orlando\n"
          ]
        }
      ]
    }
  ]
}